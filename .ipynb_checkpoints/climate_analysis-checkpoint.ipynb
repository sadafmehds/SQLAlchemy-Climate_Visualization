{
 "cells": [
  {
   "cell_type": "markdown",
   "metadata": {},
   "source": [
    "Step 3 - Climate Analysis and Exploration\n",
    "\n",
    "You are now ready to use Python and SQLAlchemy to do basic climate analysis and data exploration on your new weather station tables. All of the following analysis should be completed using SQLAlchemy ORM queries, Pandas, and Matplotlib.\n",
    "\n",
    "\n",
    "Create a Jupyter Notebook file called climate_analysis.ipynb and use it to complete your climate analysis and data exploration.\n",
    "Choose a start date and end date for your trip. Make sure that your vacation range is approximately 3-15 days total.\n",
    "Use SQLAlchemy create_engine to connect to your sqlite database.\n",
    "Use SQLAlchemy automap_base() to reflect your tables into classes and save a reference to those classes called Station and Measurement.\n",
    "\n",
    "\n",
    "\n",
    "Precipitation Analysis\n",
    "\n",
    "\n",
    "Design a query to retrieve the last 12 months of precipitation data.\n",
    "Select only the date and prcp values.\n",
    "Load the query results into a Pandas DataFrame and set the index to the date column.\n",
    "Plot the results using the DataFrame plot method."
   ]
  },
  {
   "cell_type": "code",
   "execution_count": 10,
   "metadata": {},
   "outputs": [],
   "source": [
    "import pandas as pd\n",
    "import matplotlib.pyplot as plt\n",
    "import numpy as np\n",
    "from datetime import datetime\n",
    "\n",
    "from sqlalchemy import create_engine\n",
    "from sqlalchemy.ext.declarative import declarative_base\n",
    "from sqlalchemy import Column, String, Text, Date, Float\n",
    "from sqlalchemy.orm import sessionmaker\n",
    "from sqlalchemy.orm import session"
   ]
  },
  {
   "cell_type": "code",
   "execution_count": 13,
   "metadata": {},
   "outputs": [],
   "source": [
    "engine=create_engine(\"sqlite:///hawaii.sqlite\")\n",
    "conn=engine.connect()"
   ]
  },
  {
   "cell_type": "code",
   "execution_count": 20,
   "metadata": {},
   "outputs": [
    {
     "data": {
      "text/plain": [
       "[('2010-01-01', 0.15142857142857144),\n",
       " ('2010-01-02', 0.002857142857142857),\n",
       " ('2010-01-03', 0.0),\n",
       " ('2010-01-04', 0.0014285714285714286),\n",
       " ('2010-01-05', 0.005),\n",
       " ('2010-01-06', 0.11600000000000002),\n",
       " ('2010-01-07', 0.275),\n",
       " ('2010-01-08', 0.008571428571428572),\n",
       " ('2010-01-09', 0.002857142857142857),\n",
       " ('2010-01-10', 0.002857142857142857)]"
      ]
     },
     "execution_count": 20,
     "metadata": {},
     "output_type": "execute_result"
    }
   ],
   "source": [
    "x=conn.execute(\"select date, prcp from prcps limit 10\").fetchall()\n",
    "x"
   ]
  },
  {
   "cell_type": "code",
   "execution_count": 24,
   "metadata": {},
   "outputs": [
    {
     "name": "stdout",
     "output_type": "stream",
     "text": [
      "2010-01-01\n",
      "<class 'str'>\n",
      "2010-01-02\n",
      "<class 'str'>\n",
      "2010-01-03\n",
      "<class 'str'>\n",
      "2010-01-04\n",
      "<class 'str'>\n",
      "2010-01-05\n",
      "<class 'str'>\n",
      "2010-01-06\n",
      "<class 'str'>\n",
      "2010-01-07\n",
      "<class 'str'>\n",
      "2010-01-08\n",
      "<class 'str'>\n",
      "2010-01-09\n",
      "<class 'str'>\n",
      "2010-01-10\n",
      "<class 'str'>\n"
     ]
    }
   ],
   "source": [
    "for i in x:\n",
    "    print (i[0])\n",
    "    print(type(i[0]))"
   ]
  },
  {
   "cell_type": "code",
   "execution_count": null,
   "metadata": {},
   "outputs": [],
   "source": []
  }
 ],
 "metadata": {
  "kernelspec": {
   "display_name": "Python 3",
   "language": "python",
   "name": "python3"
  },
  "language_info": {
   "codemirror_mode": {
    "name": "ipython",
    "version": 3
   },
   "file_extension": ".py",
   "mimetype": "text/x-python",
   "name": "python",
   "nbconvert_exporter": "python",
   "pygments_lexer": "ipython3",
   "version": "3.6.4"
  }
 },
 "nbformat": 4,
 "nbformat_minor": 2
}
